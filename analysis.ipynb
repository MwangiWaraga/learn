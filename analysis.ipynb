{
 "cells": [
  {
   "cell_type": "code",
   "execution_count": 2,
   "id": "02319a87",
   "metadata": {},
   "outputs": [
    {
     "name": "stdout",
     "output_type": "stream",
     "text": [
      "      name  age     city\n",
      "0    Alice   25  Nairobi\n",
      "1      Bob   30  Kampala\n",
      "2  Charlie   35  Mombasa\n"
     ]
    },
    {
     "data": {
      "text/plain": [
       "name      Alice\n",
       "age          25\n",
       "city    Nairobi\n",
       "Name: 0, dtype: object"
      ]
     },
     "execution_count": 2,
     "metadata": {},
     "output_type": "execute_result"
    }
   ],
   "source": [
    "# %pip install pandas\n",
    "import pandas as pd\n",
    "\n",
    "\n",
    "data = {\n",
    "    'name': ['Alice', 'Bob', 'Charlie'],\n",
    "    'age': [25, 30, 35],\n",
    "    'city': ['Nairobi', 'Kampala', 'Mombasa']\n",
    "}\n",
    "\n",
    "df = pd.DataFrame(data)\n",
    "print(df)\n",
    "\n",
    "df.loc[0] \n",
    "\n"
   ]
  },
  {
   "cell_type": "markdown",
   "id": "a589c742",
   "metadata": {},
   "source": [
    "Filter using .loc()\n",
    "\n"
   ]
  },
  {
   "cell_type": "code",
   "execution_count": 3,
   "id": "32341ef2",
   "metadata": {},
   "outputs": [
    {
     "name": "stdout",
     "output_type": "stream",
     "text": [
      "1    30\n",
      "2    35\n",
      "Name: age, dtype: int64\n"
     ]
    }
   ],
   "source": [
    "df_25 = df.loc[df['age'] > 25, 'age'] \n",
    "print(df_25)"
   ]
  },
  {
   "cell_type": "code",
   "execution_count": 4,
   "id": "24f20a76",
   "metadata": {},
   "outputs": [
    {
     "name": "stdout",
     "output_type": "stream",
     "text": [
      "      name  age     city\n",
      "0    Alice   25  Nairobi\n",
      "1      Bob   40  Kampala\n",
      "2  Charlie   50  Mombasa\n"
     ]
    }
   ],
   "source": [
    "v = [40, 50]\n",
    "\n",
    "df.loc[df['age'] > 25, 'age'] = v\n",
    "print(df)   \n",
    "\n"
   ]
  },
  {
   "cell_type": "code",
   "execution_count": 5,
   "id": "db5288e6",
   "metadata": {},
   "outputs": [],
   "source": [
    "assert df['age'].max() > 25"
   ]
  },
  {
   "cell_type": "code",
   "execution_count": 6,
   "id": "7316302c",
   "metadata": {},
   "outputs": [
    {
     "name": "stdout",
     "output_type": "stream",
     "text": [
      "<class 'pandas.core.frame.DataFrame'>\n",
      "RangeIndex: 25760 entries, 0 to 25759\n",
      "Data columns (total 10 columns):\n",
      " #   Column           Non-Null Count  Dtype \n",
      "---  ------           --------------  ----- \n",
      " 0   Unnamed: 0       25760 non-null  int64 \n",
      " 1   duration         25760 non-null  object\n",
      " 2   station_A_id     25760 non-null  int64 \n",
      " 3   station_A_name   25760 non-null  object\n",
      " 4   station_B_id     25760 non-null  int64 \n",
      " 5   station_B_name   25760 non-null  object\n",
      " 6   bike_id          25760 non-null  int64 \n",
      " 7   user_type        25760 non-null  int64 \n",
      " 8   user_birth_year  25760 non-null  int64 \n",
      " 9   user_gender      25760 non-null  object\n",
      "dtypes: int64(6), object(4)\n",
      "memory usage: 2.0+ MB\n"
     ]
    }
   ],
   "source": [
    "# import rides dataset\n",
    "\n",
    "rides = pd.read_csv(r\"C:\\Users\\jmwangi\\Desktop\\Python\\ride_sharing_new.csv\")\n",
    "\n",
    "# rides.head(5)\n",
    "rides.info()    "
   ]
  },
  {
   "cell_type": "code",
   "execution_count": 7,
   "id": "8d8483cb",
   "metadata": {},
   "outputs": [
    {
     "name": "stdout",
     "output_type": "stream",
     "text": [
      "<class 'pandas.core.frame.DataFrame'>\n",
      "RangeIndex: 100 entries, 0 to 99\n",
      "Data columns (total 12 columns):\n",
      " #   Column            Non-Null Count  Dtype  \n",
      "---  ------            --------------  -----  \n",
      " 0   Unnamed: 0        100 non-null    int64  \n",
      " 1   cust_id           100 non-null    object \n",
      " 2   birth_date        100 non-null    object \n",
      " 3   Age               100 non-null    int64  \n",
      " 4   acct_amount       100 non-null    float64\n",
      " 5   inv_amount        100 non-null    int64  \n",
      " 6   fund_A            100 non-null    float64\n",
      " 7   fund_B            100 non-null    float64\n",
      " 8   fund_C            100 non-null    float64\n",
      " 9   fund_D            100 non-null    float64\n",
      " 10  account_opened    100 non-null    object \n",
      " 11  last_transaction  100 non-null    object \n",
      "dtypes: float64(5), int64(3), object(4)\n",
      "memory usage: 9.5+ KB\n"
     ]
    }
   ],
   "source": [
    "# Importing banking dataset\n",
    "\n",
    "banking = pd.read_csv(r\"C:\\Users\\jmwangi\\Desktop\\Python\\banking_dirty.csv\")\n",
    "banking.head(5)\n",
    "banking.info()\n",
    "\n"
   ]
  },
  {
   "cell_type": "code",
   "execution_count": 10,
   "id": "5fe75833",
   "metadata": {},
   "outputs": [
    {
     "data": {
      "text/plain": [
       "100"
      ]
     },
     "execution_count": 10,
     "metadata": {},
     "output_type": "execute_result"
    }
   ],
   "source": [
    "# check number of unique cust_id values\n",
    "banking['cust_id'].nunique()"
   ]
  },
  {
   "cell_type": "code",
   "execution_count": 3,
   "id": "92503e46",
   "metadata": {},
   "outputs": [
    {
     "name": "stdout",
     "output_type": "stream",
     "text": [
      "[('Kenyaa', 91), ('Ken', 90), ('Keny', 89)]\n"
     ]
    }
   ],
   "source": [
    "from thefuzz import process\n",
    "\n",
    "query = \"Kenya\"\n",
    "choices = [\"Keny\", \"Uganda\", \"Tanzania\", \"Kenyaa\", \"Ken\"]\n",
    "\n",
    "matches = process.extract(query, choices, limit=3)\n",
    "\n",
    "print(matches)\n"
   ]
  }
 ],
 "metadata": {
  "kernelspec": {
   "display_name": ".venv",
   "language": "python",
   "name": "python3"
  },
  "language_info": {
   "codemirror_mode": {
    "name": "ipython",
    "version": 3
   },
   "file_extension": ".py",
   "mimetype": "text/x-python",
   "name": "python",
   "nbconvert_exporter": "python",
   "pygments_lexer": "ipython3",
   "version": "3.13.3"
  }
 },
 "nbformat": 4,
 "nbformat_minor": 5
}
